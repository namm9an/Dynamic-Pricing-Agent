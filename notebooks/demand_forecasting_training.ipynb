{
  "cells": [
    {
      "cell_type": "markdown",
      "metadata": {},
      "source": [
        "# Demand Forecasting Model Training",
        "\n",
        "This notebook trains a demand forecasting model using historical sales and external factors."
      ]
    },
    {
      "cell_type": "code",
      "execution_count": null,
      "metadata": {},
      "outputs": [],
      "source": [
        "import pandas as pd\n",
        "import numpy as np\n",
        "import torch\n",
        "from backend.synthetic_data import generate_fake_demand_data, create_training_dataset\n",
        "from transformers import TimeSeriesTransformerForPrediction, Trainer, TrainingArguments\n",
        "from sklearn.model_selection import train_test_split\n",
        "import matplotlib.pyplot as plt\n",
        "import seaborn as sns\n",
        "\n",
        "# Make plots look nice\n",
        "sns.set_context('talk')\n",
        "sns.set_style('whitegrid')\n",
        "\n",
        "# Generate synthetic data as a placeholder\n",
        "sales_df, external_df = generate_fake_demand_data()\n",
        "X, y = create_training_dataset(sales_df, external_df)\n",
        "\n",
        "# Split data\n",
        "X_train, X_val, y_train, y_val = train_test_split(X, y, test_size=0.2, random_state=42)\n",
        "\n",
        "# Load pre-trained TimeSformer and replace it with the actual model path\n",
        "model = TimeSeriesTransformerForPrediction.from_pretrained('huggingface/timeseries-base')\n",
        "\n",
        "# Prepare Training\n",
        "training_args = TrainingArguments(\n",
        "    output_dir='./models/demand_predictor',\n",
        "    evaluation_strategy='epoch',\n",
        "    logging_dir='./logs',\n",
        "    per_device_train_batch_size=8,\n",
        "    per_device_eval_batch_size=8,\n",
        "    num_train_epochs=5\n",
        ")\n",
        "\n",
        "# Create PyTorch dataset\n",
        "class TimeSeriesDataset(torch.utils.data.Dataset):\n",
        "    def __init__(self, sequences, labels):\n",
        "        self.sequences = sequences\n",
        "        self.labels = labels\n",
        "    def __len__(self):\n",
        "        return len(self.sequences)\n",
        "    def __getitem__(self, idx):\n",
        "        return {'input_ids': torch.tensor(self.sequences[idx], dtype=torch.float32),\n",
        "                'labels': torch.tensor(self.labels[idx], dtype=torch.float32)}\n",
        "\n",
        "train_dataset = TimeSeriesDataset(X_train, y_train)\n",
        "val_dataset = TimeSeriesDataset(X_val, y_val)\n",
        "\n",
        "# Initialize Trainer\n",
        "trainer = Trainer(\n",
        "    model=model,\n",
        "    args=training_args,\n",
        "    train_dataset=train_dataset,\n",
        "    eval_dataset=val_dataset\n",
        ")\n",
        "\n",
        "trainer.train()\n",
        "\n",
        "# Plot predictions vs actuals for validation set\n",
        "val_predictions = trainer.predict(val_dataset)\n",
        "sns.scatterplot(x=val_predictions.predictions.flatten(), y=y_val)\n",
        "plt.xlabel('Predicted')\n",
        "plt.ylabel('Actual')\n",
        "plt.title('Predicted vs Actual')\n",
        "plt.show()"
      ]
    }
  ],
  "metadata": {
    "kernelspec": {
      "display_name": "Python 3",
      "language": "python",
      "name": "python3"
    },
    "language_info": {
      "codemirror_mode": {
        "name": "ipython",
        "version": 3
      },
      "file_extension": ".py",
      "mimetype": "text/x-python",
      "name": "python",
      "nbconvert_exporter": "python",
      "pygments_lexer": "ipython3",
      "version": "3.8.5"
    }
  },
  "nbformat": 4,
  "nbformat_minor": 5
}

